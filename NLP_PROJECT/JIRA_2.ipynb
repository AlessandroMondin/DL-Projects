{
 "cells": [
  {
   "cell_type": "code",
   "execution_count": 7,
   "id": "abd14633",
   "metadata": {},
   "outputs": [],
   "source": [
    "#from jira import JIRA\n",
    "import json\n",
    "import time\n",
    "import math\n",
    "import pandas as pd\n",
    "import numpy as np\n",
    "from collections import OrderedDict\n",
    "import re\n",
    "import inspect\n",
    "import time\n",
    "import random\n",
    "import numpy as np\n",
    "from string import punctuation"
   ]
  },
  {
   "cell_type": "code",
   "execution_count": 2,
   "id": "73edeee1",
   "metadata": {},
   "outputs": [],
   "source": [
    "class Jira_API_Query():\n",
    "    \n",
    "    def __init__(self, server, email, psw):\n",
    "        self.server = server\n",
    "        self.email = email\n",
    "        self.psw = psw\n",
    "        \n",
    "        self.options = {'server': self.server}\n",
    "        self.jira = JIRA(self.options, basic_auth=(self.email, self.psw))\n",
    "    \n",
    "    def retrieve_tickets(self,query, num_tickets):\n",
    "        \n",
    "        tickets = []\n",
    "        ceil = math.ceil(num_tickets/100)\n",
    "        \n",
    "        for i in range(ceil):\n",
    "            hundred_tickets = self.jira.search_issues(query, startAt=(i*100) ,maxResults=100)\n",
    "            for ticket in hundred_tickets:\n",
    "                tickets.append(ticket)\n",
    "            time.sleep(2)\n",
    "            if ((i+1)*100)%1000==0:\n",
    "                print(\"Loaded tickets from \"+str((i-9)*100)+\" to \"+ str((i+1)*100))\n",
    "        \n",
    "        return tickets"
   ]
  },
  {
   "cell_type": "markdown",
   "id": "dfc463f5",
   "metadata": {},
   "source": [
    "### Here tickets are retrieved and loaded locally in lists"
   ]
  },
  {
   "cell_type": "code",
   "execution_count": 45,
   "id": "609d665f",
   "metadata": {},
   "outputs": [],
   "source": [
    "authenticated = Jira_API_Query(server = 'https://your/jira/url.com', email=\"your_email.com\",\\\n",
    "                  psw = \"your_password)"
   ]
  },
  {
   "cell_type": "code",
   "execution_count": 46,
   "id": "3c5f94e3",
   "metadata": {},
   "outputs": [
    {
     "name": "stdout",
     "output_type": "stream",
     "text": [
      "Loaded tickets from 0 to 1000\n",
      "Loaded tickets from 1000 to 2000\n",
      "Loaded tickets from 2000 to 3000\n",
      "Loaded tickets from 3000 to 4000\n",
      "Loaded tickets from 4000 to 5000\n",
      "Loaded tickets from 5000 to 6000\n",
      "Loaded tickets from 6000 to 7000\n",
      "Loaded tickets from 7000 to 8000\n",
      "Loaded tickets from 8000 to 9000\n",
      "Loaded tickets from 9000 to 10000\n",
      "Loaded tickets from 10000 to 11000\n",
      "Loaded tickets from 11000 to 12000\n",
      "Loaded tickets from 12000 to 13000\n"
     ]
    }
   ],
   "source": [
    "tickets = authenticated.retrieve_tickets('YOUR_JIRA_QUERY',13000)"
   ]
  },
  {
   "cell_type": "code",
   "execution_count": 89,
   "id": "818b816e",
   "metadata": {},
   "outputs": [],
   "source": [
    "tickets_saving = []\n",
    "for ticket in tickets:\n",
    "    id_ = ticket.id\n",
    "    type_ = ticket.fields.issuetype.name\n",
    "    labels = ticket.fields.labels\n",
    "    if not ticket.fields.components:\n",
    "        component = []\n",
    "    else:\n",
    "        component = ticket.fields.components[0].name\n",
    "    summary = ticket.fields.summary\n",
    "    description = ticket.fields.description\n",
    "    priority = ticket.fields.priority.name\n",
    "    project = ticket.fields.project.key\n",
    "    \n",
    "    tickets_saving.append([id_,type_,labels,component,priority,summary,description,project])"
   ]
  },
  {
   "cell_type": "markdown",
   "id": "7f32a831",
   "metadata": {},
   "source": [
    "### Saving a list to a JSON object"
   ]
  },
  {
   "cell_type": "code",
   "execution_count": 93,
   "id": "f6e06445",
   "metadata": {
    "scrolled": true
   },
   "outputs": [],
   "source": [
    "#with open('JIRA.json', 'w') as f:\n",
    "#    json.dump(tickets_saving, f) "
   ]
  },
  {
   "cell_type": "markdown",
   "id": "9a270c15",
   "metadata": {},
   "source": [
    "### Loading the local json Object"
   ]
  },
  {
   "cell_type": "code",
   "execution_count": 8,
   "id": "ea1a928d",
   "metadata": {},
   "outputs": [],
   "source": [
    "with open('JIRA.json', 'r') as f:\n",
    "    jira = json.load(f)\n",
    "df = pd.DataFrame(jira, columns=[\"ID\",\"bug_cat\",\"labels\",\"components\",\"priority\",\"summary\",\"description\",\"project\"])"
   ]
  },
  {
   "cell_type": "markdown",
   "id": "0f93328f",
   "metadata": {},
   "source": [
    "### Here we consider filter only the tickets whose project is PROJECT_A"
   ]
  },
  {
   "cell_type": "code",
   "execution_count": 9,
   "id": "4f54f915",
   "metadata": {},
   "outputs": [],
   "source": [
    "condition = df[\"project\"]==\"YOUR_PROJECT\"\n",
    "PROJECT_A = df[condition].iloc[:,:-1].reset_index().drop(\"index\",axis=1)"
   ]
  },
  {
   "cell_type": "markdown",
   "id": "c619cfb4",
   "metadata": {},
   "source": [
    "### We save in a list the tickets whose description is empty and then we drop them"
   ]
  },
  {
   "cell_type": "code",
   "execution_count": 10,
   "id": "2d34ee3b",
   "metadata": {},
   "outputs": [],
   "source": [
    "idx_weird = []\n",
    "tot_chars = 0\n",
    "for i in range(len(PROJECT_A)):\n",
    "    try:\n",
    "        a = len(PROJECT_A[\"description\"][i])\n",
    "    except:\n",
    "        idx_weird.append(i)\n",
    "    tot_chars += a\n",
    "PROJECT_A = PROJECT_A.drop(index = idx_weird, axis=0).reset_index().drop(\"index\",axis=1)"
   ]
  },
  {
   "cell_type": "code",
   "execution_count": 12,
   "id": "737a86e6",
   "metadata": {},
   "outputs": [
    {
     "name": "stdout",
     "output_type": "stream",
     "text": [
      "556\n"
     ]
    }
   ],
   "source": [
    "# COMPUTE AVG CHARS PER TICKET DESCRIPTION\n",
    "tot_chars = 0\n",
    "for i in range(len(PROJECT_A)):\n",
    "    a = len(PROJECT_A[\"description\"][i])\n",
    "    tot_chars += a\n",
    "print(tot_chars//PROJECT_A.shape[0])"
   ]
  },
  {
   "cell_type": "markdown",
   "id": "159d749a",
   "metadata": {},
   "source": [
    "### 1. preprocessing DESCRIPTION"
   ]
  },
  {
   "cell_type": "markdown",
   "id": "fdf66a25",
   "metadata": {},
   "source": [
    "### Cleaning the text"
   ]
  },
  {
   "cell_type": "code",
   "execution_count": 14,
   "id": "4b838b8a",
   "metadata": {},
   "outputs": [],
   "source": [
    "def remove_chunk_(text,start_char,end_char,middle_str=\"\"):\n",
    "    words = text.split()\n",
    "    for i in range(len(text.split())):\n",
    "        if start_char in words[i] and end_char in words[i]:\n",
    "            words.remove(words[i])\n",
    "            words.insert(i,middle_str)\n",
    "    new_text = \" \".join(words)\n",
    "    return new_text"
   ]
  },
  {
   "cell_type": "code",
   "execution_count": 15,
   "id": "5e364c02",
   "metadata": {},
   "outputs": [],
   "source": [
    "def clean(text):\n",
    "    text = remove_chunk_(text,\"http\",\"html\",\" <LINK> \")\n",
    "    text = remove_chunk_(text,\"http\",\"com\",\" <SITE> \")\n",
    "    text = remove_chunk_(text,\"@\",\".\",\" <MAIL> \")\n",
    "    text = remove_chunk_(text,'{color:','}', \" <COLOR_OBJ> \")\n",
    "    return text"
   ]
  },
  {
   "cell_type": "code",
   "execution_count": 16,
   "id": "38d07264",
   "metadata": {},
   "outputs": [],
   "source": [
    "def remove_thumbnails(text, middle_str=\"\"):\n",
    "    words = text.split()\n",
    "    for i in range(len(words)):\n",
    "        if words[i].endswith(\"thumbnail!\"):\n",
    "            words.remove(words[i])\n",
    "            words.insert(i,middle_str)       \n",
    "    descr = \" \".join(words)\n",
    "    return descr"
   ]
  },
  {
   "cell_type": "markdown",
   "id": "1256a29d",
   "metadata": {},
   "source": [
    "#### The funtion below I shown only partially because it contained some private-data"
   ]
  },
  {
   "cell_type": "code",
   "execution_count": 17,
   "id": "b3a87a95",
   "metadata": {},
   "outputs": [],
   "source": [
    "def preprocess(descript, punctuation_=True):\n",
    "     \n",
    "    design = None\n",
    "    # The \"->\" in a non ASCII character that needs to be treated in this way \"'\\\\u2013>'\"\n",
    "    if \"–>\" in descript:\n",
    "        descript = descript.partition(\"–>\")[0]+\"->\" + descript.partition(\"—>\")[2]\n",
    "    # The \"->\" in a non ASCII character that needs to be treated in this way \"'\\\\u2014>'\"\n",
    "    if \"—>\" in descript:\n",
    "        descript = descript.partition(\"—>\")[0]+\"->\" + descript.partition(\"—>\")[2]\n",
    "    \n",
    "    arrows = [\"-->\",\"->\",\"==>\",\"=>\"]\n",
    "    descript = re.sub(\"|\".join(arrows),\" <ARROW> \",descript)\n",
    "    semi_arrows = [\">\",\"<\"]\n",
    "    descript = re.sub(\"|\".join(semi_arrows),\"\",descript)\n",
    "    \n",
    "    descript = descript.replace(\"\\r\\n\\r\\n\", \"\")\n",
    "    descript = descript.replace(\"\\r\\n\", \" <RETURN> \")\n",
    "    \n",
    "    #here removing images, links and email\n",
    "    descript = remove_thumbnails(descript, \" <IMAGE> \")\n",
    "    descript = clean(descript)\n",
    "    \n",
    "    if punctuation_:\n",
    "        descript = descript.replace(\" <RETURN>  <RETURN> \", \" <RETURN> \")\n",
    "        descript = descript.replace(\"\\r\\n\", \" <RETURN> \")\n",
    "        descript = descript.replace(\"#\",\" <HASHTAG> \")\n",
    "        descript = descript.replace(\"...\",\" \")\n",
    "        descript = descript.replace(\".\",\" <PERIOD> \")\n",
    "        descript = descript.replace(\",\",\" <COMMA> \")\n",
    "        descript = descript.replace('\"',\" <QUOTATION_MARK> \")\n",
    "        descript = descript.replace(\";\",\" <SEMICOLON> \")\n",
    "        descript = descript.replace(\"!\",\" <EXCLAMATION_MARK> \")\n",
    "        descript = descript.replace(\"?\",\" <QUESTION_MARK> \")\n",
    "        descript = descript.replace(\"(\",\" <LEFT_PAREN> \")\n",
    "        descript = descript.replace(\")\",\" <RIGHT_PAREN> \")\n",
    "        descript = descript.replace(\"--\",\" <HYPENS> \")\n",
    "        descript = descript.replace(\"?\",\" <QUESTION_MARK> \")\n",
    "        descript = descript.replace(\":\",\" <COLON> \")\n",
    "        descript = descript.replace(\"*\",\" \")\n",
    "        descript = descript.replace(\"<RETURN>\",\"\")\n",
    "        descript = descript.replace(\"|\", \" \")\n",
    "    else:\n",
    "        descript = descript.replace(\"<ARROW>\",\" \")\n",
    "        for char in punctuation:\n",
    "            descript = descript.replace(char, \" \")\n",
    "        \n",
    "        descript = descript.replace(\"\\r\\n\", \" <RETURN> \")\n",
    "        descript = descript.replace(\"<RETURN>\",\" \")\n",
    "        descript = descript.replace(\"<RETURN>\",\" \")\n",
    "        \n",
    "        \n",
    "    descript = descript.lower()\n",
    "    descript = descript.replace(\"{color}\", \" \")\n",
    "    descript = descript.split()\n",
    "\n",
    "    return descript"
   ]
  },
  {
   "cell_type": "markdown",
   "id": "5090d1a6",
   "metadata": {},
   "source": [
    "#### Preprocessing step 1: removing most of raw text and splitting"
   ]
  },
  {
   "cell_type": "code",
   "execution_count": 19,
   "id": "8e592d53",
   "metadata": {
    "scrolled": true
   },
   "outputs": [
    {
     "name": "stdout",
     "output_type": "stream",
     "text": [
      "1.379516839981079\n"
     ]
    }
   ],
   "source": [
    "import time\n",
    "start = time.time()\n",
    "preprocessed = []\n",
    "for i in range(len(PROJECT_A[\"description\"])):\n",
    "    ppticket = preprocess(PROJECT_A.loc[i,\"description\"],punctuation_=False)\n",
    "    preprocessed.append(ppticket)\n",
    "end = time.time()\n",
    "print(end-start)"
   ]
  },
  {
   "cell_type": "markdown",
   "id": "7e0f2037",
   "metadata": {},
   "source": [
    "#### And here a second round of preprocessing"
   ]
  },
  {
   "cell_type": "code",
   "execution_count": 20,
   "id": "0b08c8d2",
   "metadata": {},
   "outputs": [],
   "source": [
    "def preprocess_2_phase(list_,previous_word=\"\",word_to_remove=\"\",replace_word=None):\n",
    "    assert isinstance(list_,list), \" The input must be a list of lists\"\n",
    "    assert previous_word != \"\", \"must be a word that links to word_to_remove\"\n",
    "    idx_to_remove = []\n",
    "    if previous_word in list_:\n",
    "        for i in range(len(list_)):\n",
    "            if list_[i].startswith(word_to_remove):\n",
    "                if previous_word in list_[i-1]:\n",
    "                    idx_to_remove.append(i-1)\n",
    "                    idx_to_remove.append(i)\n",
    "    new_list = []\n",
    "    for i in range(len(list_)):\n",
    "        if i not in idx_to_remove:\n",
    "            new_list.append(list_[i])\n",
    "        if not replace_word:\n",
    "            continue\n",
    "        else:\n",
    "             if i in idx_to_remove and i-1 not in idx_to_remove:\n",
    "                new_list.append(replace_word)\n",
    "    \n",
    "    return new_list"
   ]
  },
  {
   "cell_type": "markdown",
   "id": "84d90dda",
   "metadata": {},
   "source": [
    "#### preprocessing step-2 --> removing other \"image-\"s from the text"
   ]
  },
  {
   "cell_type": "code",
   "execution_count": 21,
   "id": "eee5e301",
   "metadata": {},
   "outputs": [
    {
     "name": "stdout",
     "output_type": "stream",
     "text": [
      "0.15140819549560547\n"
     ]
    }
   ],
   "source": [
    "start = time.time()\n",
    "preprocessed_2 = []\n",
    "for i in range(len(preprocessed)):\n",
    "    ppticket_2 = preprocess_2_phase(preprocessed[i],\"<exclamation_mark>\",\"image-\",\" <image> \")\n",
    "    preprocessed_2.append(ppticket_2)\n",
    "end = time.time()\n",
    "print(end-start)"
   ]
  },
  {
   "cell_type": "code",
   "execution_count": 23,
   "id": "2d1133af",
   "metadata": {},
   "outputs": [],
   "source": [
    "#with open('NO_PUNCT/PP_TICKETS_NO_PUNCT.json', 'w') as f:\n",
    "    # indent=2 is not needed but makes the file human-readable\n",
    "#    json.dump(preprocessed_2, f) "
   ]
  },
  {
   "cell_type": "code",
   "execution_count": 25,
   "id": "833f2d25",
   "metadata": {},
   "outputs": [],
   "source": [
    "with open(\"NO_PUNCT/PP_TICKETS_NO_PUNCT.json\", \"r\") as f:\n",
    "    tickets = json.load(f)"
   ]
  },
  {
   "cell_type": "code",
   "execution_count": 26,
   "id": "9665240f",
   "metadata": {},
   "outputs": [
    {
     "data": {
      "text/plain": [
       "True"
      ]
     },
     "execution_count": 26,
     "metadata": {},
     "output_type": "execute_result"
    }
   ],
   "source": [
    "# otherwise you fucked up\n",
    "len(tickets) == len(PROJECT_A)"
   ]
  },
  {
   "cell_type": "markdown",
   "id": "90d74c2e",
   "metadata": {},
   "source": [
    "### 2. preprocessing SUMMARY \n",
    "#### previously I cleant the description of the tickets, now I am cleaning the introduction (\"SUMMARY\")"
   ]
  },
  {
   "cell_type": "code",
   "execution_count": 28,
   "id": "edebcf2a",
   "metadata": {},
   "outputs": [],
   "source": [
    "def summary_cleaner(text,chars_chunk,signs):\n",
    "    if isinstance(signs,list):\n",
    "        for sign in signs:\n",
    "            first_chunk = text[:chars_chunk].split(sign[0])\n",
    "            first_chunk = \" \".join(first_chunk)\n",
    "            text = first_chunk + text[chars_chunk:]\n",
    "        return text\n",
    "    else:\n",
    "        first_chunk = text[:chars_chunk].split(signs)\n",
    "        first_chunk = \" \".join(first_chunk)\n",
    "        text = first_chunk + text[chars_chunk:]\n",
    "        return text"
   ]
  },
  {
   "cell_type": "code",
   "execution_count": 29,
   "id": "c59715d2",
   "metadata": {},
   "outputs": [
    {
     "name": "stdout",
     "output_type": "stream",
     "text": [
      "0.4088099002838135\n"
     ]
    }
   ],
   "source": [
    "import time\n",
    "start = time.time()\n",
    "summaries_ = []\n",
    "for i in range(len(PROJECT_A[\"summary\"])):\n",
    "    summ_ = PROJECT_A[\"summary\"][i]\n",
    "    summary = summary_cleaner(summ_,len(summ_),[\"[\",\"]\"])\n",
    "    summary = summary.replace(\"_\",\" \")\n",
    "    summary = summary.replace(\"/\",\" <slash> \")\n",
    "    pp_summ = preprocess(summary,punctuation_=False)\n",
    "    pp_summ.extend([\"<summary>\"])\n",
    "    summaries_.append(pp_summ)\n",
    "end = time.time()\n",
    "print(end-start)"
   ]
  },
  {
   "cell_type": "code",
   "execution_count": 31,
   "id": "4b12ae65",
   "metadata": {},
   "outputs": [],
   "source": [
    "#with open(\"NO_PUNCT/SUMMARIES_NO_PUNCT.json\",\"w\") as f:\n",
    "#    json.dump(summaries_,f)"
   ]
  },
  {
   "cell_type": "markdown",
   "id": "42a51542",
   "metadata": {},
   "source": [
    "#### THE END"
   ]
  },
  {
   "cell_type": "code",
   "execution_count": null,
   "id": "7a694d6d",
   "metadata": {},
   "outputs": [],
   "source": []
  }
 ],
 "metadata": {
  "kernelspec": {
   "display_name": "Python 3 (ipykernel)",
   "language": "python",
   "name": "python3"
  },
  "language_info": {
   "codemirror_mode": {
    "name": "ipython",
    "version": 3
   },
   "file_extension": ".py",
   "mimetype": "text/x-python",
   "name": "python",
   "nbconvert_exporter": "python",
   "pygments_lexer": "ipython3",
   "version": "3.9.9"
  }
 },
 "nbformat": 4,
 "nbformat_minor": 5
}
