{
 "cells": [
  {
   "cell_type": "code",
   "execution_count": 1,
   "id": "468de957",
   "metadata": {},
   "outputs": [],
   "source": [
    "import random\n",
    "import torch\n",
    "from sklearn.metrics import confusion_matrix\n",
    "from sklearn.metrics import classification_report\n",
    "import inspect\n",
    "import time\n",
    "import pandas as pd\n",
    "import json\n",
    "import random\n",
    "import numpy as np\n",
    "import random\n",
    "import seaborn as sns\n",
    "import matplotlib.pyplot as plt\n",
    "SEED = 1234\n",
    "random.seed(SEED)\n",
    "np.random.seed(SEED)\n",
    "torch.manual_seed(SEED)\n",
    "torch.cuda.manual_seed(SEED)\n",
    "torch.backends.cudnn.deterministic = True\n",
    "import torch.optim as optim\n",
    "import torch.nn"
   ]
  },
  {
   "cell_type": "code",
   "execution_count": 2,
   "id": "e47ffdcd",
   "metadata": {},
   "outputs": [],
   "source": [
    "with open(\"NO_PUNCT/DESCRIPTION.json\",\"r\") as f:\n",
    "    preproc_descr = json.load(f)\n",
    "with open(\"SHARED/PROJECT_A.json\",\"r\") as t:\n",
    "    tickets = json.load(t)\n",
    "with open(\"NO_PUNCT/SUMMARIES.json\",\"r\") as s:\n",
    "    summaries = json.load(s)\n",
    "assert len(preproc_descr) == len(tickets) == len(summaries), \"Wrong dimensions\"\n",
    "\n",
    "# joining summary and description into a single list\n",
    "for i in range(len(summaries)):\n",
    "    summaries[i].extend(preproc_descr[i])\n",
    "    \n",
    "df = pd.DataFrame(tickets, columns=[\"ID\",\"bug_cat\",\"labels\",\"components\",\"priority\",\"summary\",\"description\"])\n",
    "descr_ = pd.Series(summaries)\n",
    "df[\"preproc_descr\"] = descr_\n",
    "df.drop([\"description\",\"summary\",\"labels\",\"components\",\"priority\"],axis=1,inplace=True)"
   ]
  },
  {
   "cell_type": "markdown",
   "id": "1edf31c4",
   "metadata": {},
   "source": [
    "#### 1) data augmentation 2)padding/clipping 4)pre-modeling 5)modeling"
   ]
  },
  {
   "cell_type": "markdown",
   "id": "e33c6980",
   "metadata": {},
   "source": [
    "##### Why not oversampling? -->EASY DATA AUGMENTATION is not that easy: I noticed that replacing  random words with their synonims using wordnet.sysnet generated meaningless sentences and nlpaug tokenizer does not work correctly since neither stopwords nor stopwords_regex as today (02/2022). Back Translation would cost me 200 € ......hence undersampling :-P"
   ]
  },
  {
   "cell_type": "code",
   "execution_count": 3,
   "id": "717e64aa",
   "metadata": {},
   "outputs": [],
   "source": [
    "idx_mainclass = []\n",
    "idx_dropclass = []\n",
    "for i in range(len(df)):\n",
    "    if df.loc[i,\"bug_cat\"] == \"YOUR_FIRST_CATEGORY\":\n",
    "        idx_mainclass.append(i)\n",
    "    elif df.loc[i,\"bug_cat\"] == \"YOUR_SECOND_CATEGORY\":\n",
    "        idx_dropclass.append(i)\n",
    "idx_drop = list(np.random.choice(idx_mainclass, int(len(idx_mainclass)*0.4), replace=False))\n",
    "idx_drop.extend(idx_dropclass)\n",
    "df = df.drop(labels=idx_drop, axis=0).reset_index().drop(\"index\",axis=1)\n",
    "lengths = []\n",
    "for i in df[\"preproc_descr\"]:\n",
    "    lengths.append(len(i))\n",
    "df[\"length\"] = lengths\n",
    "labels = df[\"bug_cat\"].tolist()\n",
    "tickets = df[\"preproc_descr\"].tolist()\n",
    "lengths = df[\"length\"].tolist()\n",
    "assert len(labels) == len(tickets) == len(lengths), \"Dimensions are wrong\""
   ]
  },
  {
   "cell_type": "markdown",
   "id": "75106b6a",
   "metadata": {},
   "source": [
    "#### clipping the lenght of tickets after the 99 percentile to remove outliers"
   ]
  },
  {
   "cell_type": "code",
   "execution_count": 4,
   "id": "7758de77",
   "metadata": {
    "scrolled": true
   },
   "outputs": [
    {
     "data": {
      "text/plain": [
       "240"
      ]
     },
     "execution_count": 4,
     "metadata": {},
     "output_type": "execute_result"
    }
   ],
   "source": [
    "int(np.percentile(lengths,99))"
   ]
  },
  {
   "cell_type": "code",
   "execution_count": 5,
   "id": "848a2223",
   "metadata": {},
   "outputs": [],
   "source": [
    "threshold = int(np.percentile(lengths,99))\n",
    "#threshold = 200\n",
    "for i in range(len(tickets)):\n",
    "    if lengths[i] > threshold:       \n",
    "        text = tickets[i]\n",
    "        tickets[i] = text[:threshold]"
   ]
  },
  {
   "cell_type": "code",
   "execution_count": 6,
   "id": "76dd3d1c",
   "metadata": {},
   "outputs": [],
   "source": [
    "from collections import Counter\n",
    "# mindblowing but sexy\n",
    "concat_list = [j for i in tickets for j in i]"
   ]
  },
  {
   "cell_type": "code",
   "execution_count": 7,
   "id": "f84e38dc",
   "metadata": {},
   "outputs": [
    {
     "name": "stdout",
     "output_type": "stream",
     "text": [
      "20502 -- 4990\n"
     ]
    }
   ],
   "source": [
    "def vocab_to_int(text,threshold):\n",
    "    counts = dict(Counter(text))\n",
    "    counts = dict(sorted(counts.items(), key=lambda x: x[1],reverse=True))\n",
    "    filtered = [word for word in counts.keys() if counts[word]>=threshold]\n",
    "    new_list = {word:ii for ii, word in enumerate(filtered,1)}\n",
    "    return new_list\n",
    "vocab_2_int =vocab_to_int(concat_list,5)\n",
    "print(len(Counter(concat_list)),\"--\",len(vocab_2_int))"
   ]
  },
  {
   "cell_type": "code",
   "execution_count": 11,
   "id": "d0aa76bd",
   "metadata": {},
   "outputs": [],
   "source": [
    "num_tickets = []\n",
    "for ticket in tickets:\n",
    "    new_ticket = [vocab_2_int[word] for word in ticket if word in vocab_2_int.keys()]\n",
    "    num_tickets.append(new_ticket)"
   ]
  },
  {
   "cell_type": "code",
   "execution_count": 12,
   "id": "1774581d",
   "metadata": {},
   "outputs": [],
   "source": [
    "lenght_clipped = []\n",
    "for i in num_tickets:\n",
    "    lenght_clipped.append(len(i))\n",
    "assert max(lenght_clipped) == threshold, \"Clipping did not work\""
   ]
  },
  {
   "cell_type": "markdown",
   "id": "757602de",
   "metadata": {},
   "source": [
    "### PADDING --> all lists will have length == threshold"
   ]
  },
  {
   "cell_type": "code",
   "execution_count": 14,
   "id": "1c0155fe",
   "metadata": {},
   "outputs": [],
   "source": [
    "# APPLYING PRE-PADDING THAT WORKS BETTER THAN POST-PADDING\n",
    "def pad_sequence(text,threshold):\n",
    "    if len(text) < threshold:\n",
    "        text = list(np.zeros(threshold-len(text))) + text\n",
    "    return text\n",
    "    \n",
    "num_tickets = [pad_sequence(num_tickets[i],threshold) for i in range(len(num_tickets))]\n",
    "\n",
    "lengths = [len(i) for i in num_tickets]\n",
    "assert sum(lengths)/len(lengths) == max(lengths), \"PADDING DID NOT WORK CORRECTLY\""
   ]
  },
  {
   "cell_type": "code",
   "execution_count": 15,
   "id": "109fec7d",
   "metadata": {},
   "outputs": [],
   "source": [
    "modeling = [[num_tickets[i],labels[i]] for i in range(len(num_tickets))]\n",
    "for i in modeling:\n",
    "    if i[1] == \"YOUR_FIRST_CATEGORY\":\n",
    "        i[1] = 1\n",
    "    else:\n",
    "        i[1] = 0"
   ]
  },
  {
   "cell_type": "code",
   "execution_count": 16,
   "id": "0026a0df",
   "metadata": {},
   "outputs": [],
   "source": [
    "#with open(\"NO_PUNCT/modeling.json\",\"w\") as f:\n",
    "#    json.dump(modeling,f)"
   ]
  },
  {
   "cell_type": "code",
   "execution_count": 8,
   "id": "eb0707df",
   "metadata": {},
   "outputs": [],
   "source": [
    "with open(\"NO_PUNCT/modeling.json\",\"r\") as f:\n",
    "    tickets = json.load(f)"
   ]
  },
  {
   "cell_type": "code",
   "execution_count": 9,
   "id": "6f5ddd7d",
   "metadata": {},
   "outputs": [],
   "source": [
    "import torch\n",
    "from torch.utils.data import TensorDataset, DataLoader\n",
    "import torch.nn as nn"
   ]
  },
  {
   "cell_type": "markdown",
   "id": "95e45998",
   "metadata": {},
   "source": [
    "#### training and test set"
   ]
  },
  {
   "cell_type": "code",
   "execution_count": 10,
   "id": "c3e54c46",
   "metadata": {},
   "outputs": [],
   "source": [
    "data = np.array([x[0] for x in tickets], dtype=int)\n",
    "labels = np.array([x[1] for x in tickets],dtype=int)"
   ]
  },
  {
   "cell_type": "code",
   "execution_count": 11,
   "id": "c8e44531",
   "metadata": {},
   "outputs": [
    {
     "name": "stdout",
     "output_type": "stream",
     "text": [
      "\t\t\tFeature Shapes:\n",
      "Train set: \t\t(7677, 243) \n",
      "Validation set: \t(960, 243) \n",
      "Test set: \t\t(960, 243)\n"
     ]
    }
   ],
   "source": [
    "idx = np.random.choice(len(tickets), size=len(tickets), replace=False)\n",
    "perc_tr = 0.8\n",
    "\n",
    "data = data[idx]\n",
    "#data = tickets\n",
    "labels = labels[idx]\n",
    "\n",
    "end_idx_tr = int(len(data)*perc_tr)\n",
    "train_x = data[:end_idx_tr]\n",
    "train_y = labels[:end_idx_tr]\n",
    "\n",
    "remaining = (len(data)-len(train_x))//2\n",
    "\n",
    "\n",
    "val_x = data[end_idx_tr:end_idx_tr+remaining]\n",
    "val_y = labels[end_idx_tr:end_idx_tr+remaining]\n",
    "\n",
    "\n",
    "test_x = data[end_idx_tr+remaining:]\n",
    "test_y = labels[end_idx_tr:end_idx_tr+remaining]\n",
    "\n",
    "\n",
    "print(\"\\t\\t\\tFeature Shapes:\")\n",
    "print(\"Train set: \\t\\t{}\".format(train_x.shape), \n",
    "      \"\\nValidation set: \\t{}\".format(val_x.shape),\n",
    "      \"\\nTest set: \\t\\t{}\".format(test_x.shape))"
   ]
  },
  {
   "cell_type": "code",
   "execution_count": 12,
   "id": "8a52b7a4",
   "metadata": {},
   "outputs": [],
   "source": [
    "def get_batches(arr, seq_length):\n",
    "    assert len(arr)%seq_length==0, \"Arr must be divisible for seq_length\"\n",
    "    batch_size = len(arr)//seq_length\n",
    "    arr = arr[:seq_length*batch_size]\n",
    "    arr = arr.reshape((batch_size,seq_length))\n",
    "    return arr"
   ]
  },
  {
   "cell_type": "code",
   "execution_count": 13,
   "id": "7d8d74ae",
   "metadata": {},
   "outputs": [],
   "source": [
    "batch_size = 16\n",
    "\n",
    "train_data = TensorDataset(torch.from_numpy(train_x),torch.from_numpy(train_y))\n",
    "val_data = TensorDataset(torch.from_numpy(val_x),torch.from_numpy(val_y))\n",
    "test_data = TensorDataset(torch.from_numpy(test_x),torch.from_numpy(test_y))\n",
    "\n",
    "train_loader = DataLoader(train_data, batch_size=batch_size)\n",
    "val_loader = DataLoader(val_data, batch_size=batch_size)\n",
    "test_loader = DataLoader(test_data, batch_size=batch_size)\n",
    "data_, label = next(iter(train_loader))\n",
    "seq_length = data_.size(1)"
   ]
  },
  {
   "cell_type": "code",
   "execution_count": 14,
   "id": "9f6dcd93",
   "metadata": {},
   "outputs": [
    {
     "name": "stdout",
     "output_type": "stream",
     "text": [
      "Training on GPU.\n"
     ]
    }
   ],
   "source": [
    "train_on_gpu = torch.cuda.is_available()\n",
    "\n",
    "if(train_on_gpu):\n",
    "    print('Training on GPU.')\n",
    "else:\n",
    "    print('No GPU available, training on CPU.')"
   ]
  },
  {
   "cell_type": "code",
   "execution_count": 15,
   "id": "933664c0",
   "metadata": {},
   "outputs": [],
   "source": [
    "class LSTM(nn.Module):\n",
    "    \n",
    "    def __init__(self, vocab_size,output_size, embed_size,\n",
    "                 hidden_dim, n_layers,pretrained_embeddings=None, drop_prob=0.1):\n",
    "        \"\"\"\n",
    "        Initialize the model by setting up the layers.\n",
    "        \"\"\"\n",
    "        super(LSTM, self).__init__()\n",
    "        self.vocab_size = vocab_size\n",
    "        self.embed_size = embed_size\n",
    "        self.output_size = output_size\n",
    "        self.n_layers = n_layers\n",
    "        self.hidden_dim = hidden_dim\n",
    "        #self.seq_length = seq_length\n",
    "        # embedding and LSTM layers\n",
    "        if pretrained_embeddings is None:\n",
    "            self.embedding = nn.Embedding(vocab_size, embed_size)\n",
    "        else:\n",
    "            self.embedding = nn.Embedding.from_pretrained(pretrained_embeddings)\n",
    "        print(self.embedding)\n",
    "        self.lstm = nn.LSTM(embed_size, hidden_dim, n_layers, \n",
    "                            dropout=drop_prob, batch_first=True)\n",
    "        # dropout layer\n",
    "        self.dropout = nn.Dropout(0.2)\n",
    "        # linear and sigmoid layers\n",
    "        self.fc_out = nn.Linear(hidden_dim, output_size) \n",
    "        self.sig = nn.Sigmoid()\n",
    "    \n",
    "    def forward(self, x, hidden):\n",
    "        \"\"\"\n",
    "        Perform a forward pass of our model on some input and hidden state.\n",
    "        \"\"\"\n",
    "        batch_size = x.size(0)\n",
    "        # embeddings and lstm_out\n",
    "        embeds = self.embedding(x)\n",
    "        lstm_out, hidden = self.lstm(embeds, hidden)\n",
    "        # stack up lstm outputs\n",
    "        lstm_out = lstm_out.contiguous().view(-1, self.hidden_dim) \n",
    "        # dropout and fully-connected layer\n",
    "        out = self.dropout(lstm_out)\n",
    "        out = self.fc_out(out)\n",
    "        out = out.view(batch_size, -1)\n",
    "        out = out[:, -1] \n",
    "        sig_out = self.sig(out)\n",
    "        \n",
    "        # if classification were multi-class, \n",
    "        #I should have reshaped (batch_size,self.seq_length, -1)\n",
    "        # ---> sig_out = sig_out.view(batch_size,self.seq_length, -1)\n",
    "        # ---> sig_out = sig_out[:, -1] \n",
    "        \n",
    "        # --> since it's binary, (batch_size,-1) and out = out[:, -1]\n",
    "        # retrieves the second element of each couple out for the last out of the seq_length \n",
    "        #sig_out = sig_out[:, -1] \n",
    "        \n",
    "        return sig_out, hidden\n",
    "\n",
    "    def init_hidden(self, batch_size):\n",
    "        ''' Initializes hidden state '''\n",
    "        # Create two new tensors with sizes n_layers x batch_size x hidden_dim,\n",
    "        # initialized to zero, for hidden state and cell state of LSTM\n",
    "        weight = next(self.parameters()).data\n",
    "        # hidden is a tuple since one is h0 and one i c0 (hidden state and cell state)\n",
    "        if (train_on_gpu):\n",
    "            hidden = (weight.new(self.n_layers, batch_size, self.hidden_dim).zero_().cuda(),\n",
    "                  weight.new(self.n_layers, batch_size, self.hidden_dim).zero_().cuda())\n",
    "        else:\n",
    "            hidden = (weight.new(self.n_layers, batch_size, self.hidden_dim).zero_(),\n",
    "                      weight.new(self.n_layers, batch_size, self.hidden_dim).zero_())\n",
    "            \n",
    "        return hidden\n",
    "        "
   ]
  },
  {
   "cell_type": "markdown",
   "id": "3f1b9672",
   "metadata": {},
   "source": [
    "###### I create this class but being my case a many-to-one NLP model, BLTM would be  useless since I am still considering only the last seq_length output in the loss funtion --> I am not using it"
   ]
  },
  {
   "cell_type": "code",
   "execution_count": 16,
   "id": "ab124d27",
   "metadata": {},
   "outputs": [],
   "source": [
    "class BLSTM(torch.nn.Module): \n",
    "    def __init__(self, vocab_size,output_size, embed_size, hidden_dim, n_layers, drop_prob=0.5):\n",
    "        super(BLSTM, self).__init__()\n",
    "        self.vocab_size = vocab_size\n",
    "        self.embed_size = embed_size\n",
    "        self.output_size = output_size\n",
    "        self.n_layers = n_layers\n",
    "        self.hidden_dim = hidden_dim\n",
    "        self.embedding = nn.Embedding(vocab_size, embed_size)\n",
    "        self.b_lstm = nn.LSTM(embed_size, hidden_dim, n_layers, \n",
    "                            dropout=drop_prob, batch_first=True, bidirectional=True)\n",
    "        self.dropout = nn.Dropout(0.3)\n",
    "        self.fc_out = nn.Linear(hidden_dim, output_size) \n",
    "        #self.fc1 = nn.Linear(hidden_dim, 400)\n",
    "        #self.fc_out = nn.Linear(400, output_size)\n",
    "        self.sig = nn.Sigmoid()\n",
    "        \n",
    "    def forward(self, x, hidden):\n",
    "        batch_size = x.size(0)\n",
    "        #h0 = torch.zeros(2*self.n_layers,batch_size,self.hidden_dim)\n",
    "        #c0 = torch.zeros(2*self.n_layers,batch_size,self.hidden_dim)\n",
    "        embeds = self.embedding(x)\n",
    "        lstm_out, hidden = self.b_lstm(embeds, hidden)\n",
    "        lstm_out = lstm_out.contiguous().view(-1, self.hidden_dim) \n",
    "        out = self.dropout(lstm_out)\n",
    "        out = self.fc_out(out)\n",
    "        sig_out = self.sig(out)\n",
    "        sig_out = sig_out.view(batch_size, -1)\n",
    "        sig_out = sig_out[:, -1] \n",
    "        return sig_out, hidden\n",
    "    def init_hidden(self, batch_size):\n",
    "        ''' Initializes hidden state '''\n",
    "        # Create two new tensors with sizes n_layers x batch_size x hidden_dim,\n",
    "        # initialized to zero, for hidden state and cell state of LSTM\n",
    "        weight = next(self.parameters()).data\n",
    "        # hidden is a tuple since one is h0 and one i c0 (hidden state and cell state)\n",
    "        if (train_on_gpu):\n",
    "            hidden = (weight.new(2*self.n_layers, batch_size, self.hidden_dim).zero_().cuda(),\n",
    "                  weight.new(2*self.n_layers, batch_size, self.hidden_dim).zero_().cuda())\n",
    "        else:\n",
    "            hidden = (weight.new(2*self.n_layers, batch_size, self.hidden_dim).zero_(),\n",
    "                      weight.new(2*self.n_layers, batch_size, self.hidden_dim).zero_())\n",
    "            \n",
    "        return hidden"
   ]
  },
  {
   "cell_type": "code",
   "execution_count": 17,
   "id": "fe089b0a",
   "metadata": {},
   "outputs": [
    {
     "data": {
      "text/plain": [
       "480"
      ]
     },
     "execution_count": 17,
     "metadata": {},
     "output_type": "execute_result"
    }
   ],
   "source": [
    "len(train_loader)"
   ]
  },
  {
   "cell_type": "markdown",
   "id": "ab66033d",
   "metadata": {},
   "source": [
    "#### I also tried to create a fancy loss funtion where I am taking all the losses for each  time step          --> deleting the ones corresponding to the 0-padded entries and the summing and  averaging the remaing ones but the improvements were marginal and training time increase  drastically --> the \"#\" rows in this training funtion refer to that unlucky attempt"
   ]
  },
  {
   "cell_type": "code",
   "execution_count": 40,
   "id": "b6ef7ac8",
   "metadata": {},
   "outputs": [],
   "source": [
    "def train_nn(net,epochs,criterion,optimizer,train_loader,val_loader,name_file):\n",
    "    val_loss_min = np.inf\n",
    "    if train_on_gpu:\n",
    "        net.cuda()\n",
    "    validation_losses = []\n",
    "    training_losses = []\n",
    "    for i in range(1,epochs+1):\n",
    "        # initialize the hidden_state at the beginning of the epoch    \n",
    "        for ii, (data, label) in enumerate(train_loader,1):\n",
    "            if train_on_gpu:\n",
    "                data, label = data.cuda(), label.cuda()\n",
    "            hidden = net.init_hidden(data.shape[0])\n",
    "            label = label.long().cuda()\n",
    "            net.train()\n",
    "            # detach hidden states\n",
    "            hidden = tuple([each.data for each in hidden])\n",
    "            # zero accumulated gradients\n",
    "            net.zero_grad()\n",
    "            out, hidden = net.forward(data, hidden)\n",
    "            #sig_out = out_.view(data.size(0),seq_length,-1)\n",
    "            #labels = torch.zeros(data.size(0),seq_length,1)\n",
    "            #for i in range(labels.size(0)): \n",
    "                #labels[i] = label[i]\n",
    "            #print(labels.size(), torch.unique(labels))\n",
    "            #sig_out = sig_out.view(sig_out.size(0)*sig_out.size(1),-1)\n",
    "            #labels = labels.view(labels.size(0)*labels.size(1),-1)\n",
    "            #print(sig_out.size(), labels.size())\n",
    "            #loss_unfold = nn.BCELoss(reduction=\"none\")(sig_out,labels.cuda())\n",
    "            #data_ = data.view(data.size(0)*seq_length,-1)\n",
    "            #c = 0\n",
    "            #for i in range(data_.size(0)):\n",
    "            #    if data_[i] == 0:\n",
    "            #        c += 1\n",
    "            #        loss_unfold[i]=0\n",
    "            #loss = torch.sum(loss_unfold)/(len(loss_unfold)-c)\n",
    "            \n",
    "            loss = criterion(out, label.float())\n",
    "            loss.backward()\n",
    "            nn.utils.clip_grad_norm_(net.parameters(), clip)\n",
    "            optimizer.step()\n",
    "              \n",
    "            if ii%(len(train_loader)/4)==0:  \n",
    "                net.eval()     \n",
    "                val_losses = []\n",
    "                corrects = 0\n",
    "                total = 0\n",
    "                \n",
    "                for data, label in val_loader:\n",
    "                    #print(data.size())\n",
    "                    val_h = net.init_hidden(data.shape[0])\n",
    "                    if train_on_gpu:\n",
    "                        data, label = data.cuda(), label.cuda()\n",
    "                    \n",
    "                    label = label.long()\n",
    "                    out, val_h = net.forward(data,val_h)\n",
    "                    loss_ = criterion(out,label.float())\n",
    "                    correct = torch.sum(torch.eq(out.round(),label)).item()\n",
    "                    total += len(data)\n",
    "                    corrects += correct\n",
    "                    val_losses.append(loss_.item())\n",
    "            \n",
    "                validation_losses.append(np.mean(val_losses))\n",
    "                training_losses.append(loss.item())\n",
    "\n",
    "            if ii % (len(train_loader)/2) == 0: \n",
    "                if np.mean(val_losses) < val_loss_min:\n",
    "                    torch.save(net.state_dict(), name_file)\n",
    "                    print(\"Saving model -- Validation Loss decreased from {:.4f} to {:.4f}\".format(val_loss_min,\n",
    "                                                                              np.mean(val_losses)))   \n",
    "                    val_loss_min = np.mean(val_losses)\n",
    "                print(\"Epoch: {}, batch: {}/{}, training loss is {:.3f}\".format(i,ii,len(train_loader),loss.item()))\n",
    "                print(\"Epoch: {}, batch: {}/{}, avg validation loss is {:.3f}\".format(i,ii,len(train_loader),np.mean(val_losses)))\n",
    "                print(\"Epoch: {}, batch: {}/{}, validation accuracy is {:.3f}\".format(i,ii,len(train_loader),corrects/total))\n",
    "                print(\"-----\")\n",
    "        \n",
    "            \n",
    "    return net,validation_losses,training_losses  "
   ]
  },
  {
   "cell_type": "code",
   "execution_count": 38,
   "id": "aa48b9ee",
   "metadata": {
    "scrolled": true
   },
   "outputs": [
    {
     "name": "stdout",
     "output_type": "stream",
     "text": [
      "Embedding(5074, 100)\n"
     ]
    }
   ],
   "source": [
    "loss = nn.BCELoss()\n",
    "vocab_size = len(set([i for x in data for i in x])) + 1\n",
    "epochs=8\n",
    "output_size = 1\n",
    "embed_size = 100\n",
    "hidden_dim = 200\n",
    "clip = 0.2\n",
    "n_layers = 2\n",
    "#batch_size = 32\n",
    "net = LSTM(vocab_size,output_size,embed_size,hidden_dim,n_layers,None,drop_prob=0.3)\n",
    "optim = torch.optim.AdamW(net.parameters(),lr=0.0002)\n",
    "name_file = \"NO_PUNCT/MODELS/attempts.pt\""
   ]
  },
  {
   "cell_type": "code",
   "execution_count": 39,
   "id": "eb8182d1",
   "metadata": {
    "scrolled": false
   },
   "outputs": [
    {
     "name": "stdout",
     "output_type": "stream",
     "text": [
      "Saving model -- Validation Loss decreased from inf to 0.6789026101430257\n",
      "Epoch: 1, batch: 240/480, training loss is 0.673\n",
      "Epoch: 1, batch: 240/480, avg validation loss is 0.679\n",
      "Epoch: 1, batch: 240/480, validation accuracy is 0.579\n",
      "-----\n",
      "Saving model -- Validation Loss decreased from 0.6789026101430257 to 0.6723906646172205\n",
      "Epoch: 1, batch: 480/480, training loss is 0.706\n",
      "Epoch: 1, batch: 480/480, avg validation loss is 0.672\n",
      "Epoch: 1, batch: 480/480, validation accuracy is 0.573\n",
      "-----\n",
      "Saving model -- Validation Loss decreased from 0.6723906646172205 to 0.666467759013176\n",
      "Epoch: 2, batch: 240/480, training loss is 0.643\n",
      "Epoch: 2, batch: 240/480, avg validation loss is 0.666\n",
      "Epoch: 2, batch: 240/480, validation accuracy is 0.584\n",
      "-----\n",
      "Saving model -- Validation Loss decreased from 0.666467759013176 to 0.6608087370793024\n",
      "Epoch: 2, batch: 480/480, training loss is 0.698\n",
      "Epoch: 2, batch: 480/480, avg validation loss is 0.661\n",
      "Epoch: 2, batch: 480/480, validation accuracy is 0.603\n",
      "-----\n",
      "Saving model -- Validation Loss decreased from 0.6608087370793024 to 0.6408733536799749\n",
      "Epoch: 3, batch: 240/480, training loss is 0.557\n",
      "Epoch: 3, batch: 240/480, avg validation loss is 0.641\n",
      "Epoch: 3, batch: 240/480, validation accuracy is 0.629\n",
      "-----\n",
      "Saving model -- Validation Loss decreased from 0.6408733536799749 to 0.6370746687054634\n",
      "Epoch: 3, batch: 480/480, training loss is 0.739\n",
      "Epoch: 3, batch: 480/480, avg validation loss is 0.637\n",
      "Epoch: 3, batch: 480/480, validation accuracy is 0.623\n",
      "-----\n",
      "Saving model -- Validation Loss decreased from 0.6370746687054634 to 0.6294651255011559\n",
      "Epoch: 4, batch: 240/480, training loss is 0.492\n",
      "Epoch: 4, batch: 240/480, avg validation loss is 0.629\n",
      "Epoch: 4, batch: 240/480, validation accuracy is 0.634\n",
      "-----\n",
      "Saving model -- Validation Loss decreased from 0.6294651255011559 to 0.6254088823994001\n",
      "Epoch: 4, batch: 480/480, training loss is 0.712\n",
      "Epoch: 4, batch: 480/480, avg validation loss is 0.625\n",
      "Epoch: 4, batch: 480/480, validation accuracy is 0.645\n",
      "-----\n",
      "Saving model -- Validation Loss decreased from 0.6254088823994001 to 0.6219835763176282\n",
      "Epoch: 5, batch: 240/480, training loss is 0.473\n",
      "Epoch: 5, batch: 240/480, avg validation loss is 0.622\n",
      "Epoch: 5, batch: 240/480, validation accuracy is 0.650\n",
      "-----\n",
      "Saving model -- Validation Loss decreased from 0.6219835763176282 to 0.6154743820428848\n",
      "Epoch: 5, batch: 480/480, training loss is 0.659\n",
      "Epoch: 5, batch: 480/480, avg validation loss is 0.615\n",
      "Epoch: 5, batch: 480/480, validation accuracy is 0.658\n",
      "-----\n",
      "Saving model -- Validation Loss decreased from 0.6154743820428848 to 0.6120099072655042\n",
      "Epoch: 6, batch: 240/480, training loss is 0.440\n",
      "Epoch: 6, batch: 240/480, avg validation loss is 0.612\n",
      "Epoch: 6, batch: 240/480, validation accuracy is 0.670\n",
      "-----\n",
      "Saving model -- Validation Loss decreased from 0.6120099072655042 to 0.6107685233155886\n",
      "Epoch: 6, batch: 480/480, training loss is 0.646\n",
      "Epoch: 6, batch: 480/480, avg validation loss is 0.611\n",
      "Epoch: 6, batch: 480/480, validation accuracy is 0.671\n",
      "-----\n",
      "Saving model -- Validation Loss decreased from 0.6107685233155886 to 0.6091062292456627\n",
      "Epoch: 7, batch: 240/480, training loss is 0.439\n",
      "Epoch: 7, batch: 240/480, avg validation loss is 0.609\n",
      "Epoch: 7, batch: 240/480, validation accuracy is 0.691\n",
      "-----\n",
      "Saving model -- Validation Loss decreased from 0.6091062292456627 to 0.6080813805262247\n",
      "Epoch: 7, batch: 480/480, training loss is 0.644\n",
      "Epoch: 7, batch: 480/480, avg validation loss is 0.608\n",
      "Epoch: 7, batch: 480/480, validation accuracy is 0.671\n",
      "-----\n",
      "Epoch: 8, batch: 240/480, training loss is 0.404\n",
      "Epoch: 8, batch: 240/480, avg validation loss is 0.612\n",
      "Epoch: 8, batch: 240/480, validation accuracy is 0.685\n",
      "-----\n",
      "Epoch: 8, batch: 480/480, training loss is 0.683\n",
      "Epoch: 8, batch: 480/480, avg validation loss is 0.617\n",
      "Epoch: 8, batch: 480/480, validation accuracy is 0.671\n",
      "-----\n"
     ]
    }
   ],
   "source": [
    "net_,val_losses,train_loss = train_nn(net,epochs,loss,optim,train_loader,val_loader,name_file)"
   ]
  },
  {
   "cell_type": "code",
   "execution_count": 41,
   "id": "5a1d30f6",
   "metadata": {},
   "outputs": [
    {
     "name": "stdout",
     "output_type": "stream",
     "text": [
      "Embedding(5074, 100)\n"
     ]
    },
    {
     "data": {
      "text/plain": [
       "<All keys matched successfully>"
      ]
     },
     "execution_count": 41,
     "metadata": {},
     "output_type": "execute_result"
    }
   ],
   "source": [
    "net = LSTM(vocab_size,output_size,embed_size,hidden_dim,n_layers)\n",
    "net.cuda().load_state_dict(torch.load('NO_PUNCT/MODELS/attempts.pt'))"
   ]
  },
  {
   "cell_type": "code",
   "execution_count": 42,
   "id": "cb7be2cd",
   "metadata": {},
   "outputs": [],
   "source": [
    "def Confusion_Matrix(net, data_loader):\n",
    "    y_pred = []\n",
    "    y_label = []\n",
    "    with torch.no_grad():\n",
    "        for data, label in data_loader:\n",
    "            val_h = net.init_hidden(data.shape[0])\n",
    "            if train_on_gpu:\n",
    "                data, label = data.cuda(), label.cuda()\n",
    "                out, val_h = net.forward(data,val_h)\n",
    "            y_pred.append(list(out.round().cpu().numpy()))\n",
    "            y_label.append(list(label.cpu().numpy()))\n",
    "    y_pred = [i for j in y_pred for i in j]\n",
    "    y_label = [i for j in y_label for i in j]\n",
    "    conf_mat = confusion_matrix(y_label,y_pred)\n",
    "    sns.heatmap(conf_mat, annot=True, fmt=\"g\", cmap=\"Blues\")\n",
    "    print(classification_report(y_label,y_pred))"
   ]
  },
  {
   "cell_type": "markdown",
   "id": "4ab4632c",
   "metadata": {},
   "source": [
    "##### At this point I investigated and I manager of the project confirmed to me that up to 50% of the ticket labeled as 0 were in reality 1. Quite depressing to discover it after time and enegy spent in this project, but still I had the chance to experience on my skin the fairtale of Garbage In Garbage Out"
   ]
  },
  {
   "cell_type": "code",
   "execution_count": 44,
   "id": "4d59c130",
   "metadata": {},
   "outputs": [
    {
     "name": "stdout",
     "output_type": "stream",
     "text": [
      "              precision    recall  f1-score   support\n",
      "\n",
      "           0       0.44      0.48      0.46       427\n",
      "           1       0.55      0.50      0.52       533\n",
      "\n",
      "    accuracy                           0.49       960\n",
      "   macro avg       0.49      0.49      0.49       960\n",
      "weighted avg       0.50      0.49      0.49       960\n",
      "\n"
     ]
    },
    {
     "data": {
      "image/png": "[encoded data removed]",
      "text/plain": [
       "<Figure size 432x288 with 2 Axes>"
      ]
     },
     "metadata": {
      "needs_background": "light"
     },
     "output_type": "display_data"
    }
   ],
   "source": [
    "Confusion_Matrix(net,test_loader)"
   ]
  },
  {
   "cell_type": "code",
   "execution_count": 73,
   "id": "ecd86767",
   "metadata": {},
   "outputs": [],
   "source": [
    "#with open(\"NO_PUNCT/Validation_Losses_NO_PUNCT\",\"w\") as f:\n",
    "#    json.dump(val_losses,f)\n",
    "#with open(\"NO_PUNCT/Training_Loss_NO_PUNCT\",\"w\") as f:\n",
    "#    json.dump(train_loss,f)"
   ]
  },
  {
   "cell_type": "markdown",
   "id": "a98585f7",
   "metadata": {},
   "source": [
    "## PRETRAINED EMBEDDINGS"
   ]
  },
  {
   "cell_type": "code",
   "execution_count": 45,
   "id": "0f43eef9",
   "metadata": {},
   "outputs": [],
   "source": [
    "from gensim.models import KeyedVectors\n",
    "goog_wordvecs = KeyedVectors.load_word2vec_format('EMBEDDINGS/GoogleNews-vectors-negative300.bin', binary=True, limit=100000)"
   ]
  },
  {
   "cell_type": "code",
   "execution_count": 46,
   "id": "621de899",
   "metadata": {},
   "outputs": [],
   "source": [
    "def embed_2_tensor(keyedvector_word2vec):\n",
    "    weights = torch.FloatTensor(goog_wordvecs.vectors)\n",
    "    oov_size=0\n",
    "    for i in vocab_2_int.keys():\n",
    "        if i not in goog_wordvecs.key_to_index.keys():\n",
    "            oov_size+=1\n",
    "    zeros = torch.rand(oov_size,weights.shape[1])\n",
    "    weights = torch.cat([weights,zeros],0)\n",
    "    weights.requires_grad = True\n",
    "    return weights"
   ]
  },
  {
   "cell_type": "code",
   "execution_count": 47,
   "id": "d14c10a1",
   "metadata": {},
   "outputs": [],
   "source": [
    "pretrained_embeddings = embed_2_tensor(goog_wordvecs)"
   ]
  },
  {
   "cell_type": "code",
   "execution_count": 53,
   "id": "96ecca3c",
   "metadata": {},
   "outputs": [
    {
     "name": "stdout",
     "output_type": "stream",
     "text": [
      "Embedding(102117, 300)\n"
     ]
    }
   ],
   "source": [
    "loss = nn.BCELoss()\n",
    "vocab_size = len(set([i for x in data for i in x])) + 1\n",
    "epochs= 12\n",
    "output_size = 1\n",
    "embed_size = 300\n",
    "hidden_dim = 128\n",
    "clip = 0.2\n",
    "n_layers = 2\n",
    "batch_size = 16\n",
    "net = LSTM(vocab_size,output_size,embed_size,hidden_dim,n_layers,pretrained_embeddings,drop_prob=0.2)\n",
    "optim = torch.optim.AdamW(net.parameters(),lr=0.0002)\n",
    "name_file = \"NO_PUNCT/MODELS/pretrained.pt\""
   ]
  },
  {
   "cell_type": "code",
   "execution_count": 54,
   "id": "62195a39",
   "metadata": {},
   "outputs": [
    {
     "name": "stdout",
     "output_type": "stream",
     "text": [
      "Saving model -- Validation Loss decreased from inf to 0.6855\n",
      "Epoch: 1, batch: 240/480, training loss is 0.686\n",
      "Epoch: 1, batch: 240/480, avg validation loss is 0.686\n",
      "Epoch: 1, batch: 240/480, validation accuracy is 0.555\n",
      "-----\n",
      "Saving model -- Validation Loss decreased from 0.6855 to 0.6783\n",
      "Epoch: 1, batch: 480/480, training loss is 0.729\n",
      "Epoch: 1, batch: 480/480, avg validation loss is 0.678\n",
      "Epoch: 1, batch: 480/480, validation accuracy is 0.582\n",
      "-----\n",
      "Saving model -- Validation Loss decreased from 0.6783 to 0.6750\n",
      "Epoch: 2, batch: 240/480, training loss is 0.671\n",
      "Epoch: 2, batch: 240/480, avg validation loss is 0.675\n",
      "Epoch: 2, batch: 240/480, validation accuracy is 0.592\n",
      "-----\n",
      "Saving model -- Validation Loss decreased from 0.6750 to 0.6678\n",
      "Epoch: 2, batch: 480/480, training loss is 0.723\n",
      "Epoch: 2, batch: 480/480, avg validation loss is 0.668\n",
      "Epoch: 2, batch: 480/480, validation accuracy is 0.600\n",
      "-----\n",
      "Epoch: 3, batch: 240/480, training loss is 0.648\n",
      "Epoch: 3, batch: 240/480, avg validation loss is 0.680\n",
      "Epoch: 3, batch: 240/480, validation accuracy is 0.544\n",
      "-----\n",
      "Saving model -- Validation Loss decreased from 0.6678 to 0.6637\n",
      "Epoch: 3, batch: 480/480, training loss is 0.705\n",
      "Epoch: 3, batch: 480/480, avg validation loss is 0.664\n",
      "Epoch: 3, batch: 480/480, validation accuracy is 0.600\n",
      "-----\n",
      "Saving model -- Validation Loss decreased from 0.6637 to 0.6619\n",
      "Epoch: 4, batch: 240/480, training loss is 0.610\n",
      "Epoch: 4, batch: 240/480, avg validation loss is 0.662\n",
      "Epoch: 4, batch: 240/480, validation accuracy is 0.595\n",
      "-----\n",
      "Saving model -- Validation Loss decreased from 0.6619 to 0.6555\n",
      "Epoch: 4, batch: 480/480, training loss is 0.686\n",
      "Epoch: 4, batch: 480/480, avg validation loss is 0.655\n",
      "Epoch: 4, batch: 480/480, validation accuracy is 0.615\n",
      "-----\n",
      "Epoch: 5, batch: 240/480, training loss is 0.537\n",
      "Epoch: 5, batch: 240/480, avg validation loss is 0.660\n",
      "Epoch: 5, batch: 240/480, validation accuracy is 0.607\n",
      "-----\n",
      "Saving model -- Validation Loss decreased from 0.6555 to 0.6545\n",
      "Epoch: 5, batch: 480/480, training loss is 0.667\n",
      "Epoch: 5, batch: 480/480, avg validation loss is 0.655\n",
      "Epoch: 5, batch: 480/480, validation accuracy is 0.613\n",
      "-----\n",
      "Epoch: 6, batch: 240/480, training loss is 0.551\n",
      "Epoch: 6, batch: 240/480, avg validation loss is 0.662\n",
      "Epoch: 6, batch: 240/480, validation accuracy is 0.603\n",
      "-----\n",
      "Saving model -- Validation Loss decreased from 0.6545 to 0.6496\n",
      "Epoch: 6, batch: 480/480, training loss is 0.671\n",
      "Epoch: 6, batch: 480/480, avg validation loss is 0.650\n",
      "Epoch: 6, batch: 480/480, validation accuracy is 0.616\n",
      "-----\n",
      "Epoch: 7, batch: 240/480, training loss is 0.554\n",
      "Epoch: 7, batch: 240/480, avg validation loss is 0.657\n",
      "Epoch: 7, batch: 240/480, validation accuracy is 0.611\n",
      "-----\n",
      "Epoch: 7, batch: 480/480, training loss is 0.644\n",
      "Epoch: 7, batch: 480/480, avg validation loss is 0.654\n",
      "Epoch: 7, batch: 480/480, validation accuracy is 0.608\n",
      "-----\n",
      "Epoch: 8, batch: 240/480, training loss is 0.516\n",
      "Epoch: 8, batch: 240/480, avg validation loss is 0.651\n",
      "Epoch: 8, batch: 240/480, validation accuracy is 0.607\n",
      "-----\n",
      "Epoch: 8, batch: 480/480, training loss is 0.648\n",
      "Epoch: 8, batch: 480/480, avg validation loss is 0.656\n",
      "Epoch: 8, batch: 480/480, validation accuracy is 0.618\n",
      "-----\n",
      "Epoch: 9, batch: 240/480, training loss is 0.612\n",
      "Epoch: 9, batch: 240/480, avg validation loss is 0.664\n",
      "Epoch: 9, batch: 240/480, validation accuracy is 0.608\n",
      "-----\n",
      "Epoch: 9, batch: 480/480, training loss is 0.631\n",
      "Epoch: 9, batch: 480/480, avg validation loss is 0.650\n",
      "Epoch: 9, batch: 480/480, validation accuracy is 0.608\n",
      "-----\n",
      "Epoch: 10, batch: 240/480, training loss is 0.555\n",
      "Epoch: 10, batch: 240/480, avg validation loss is 0.652\n",
      "Epoch: 10, batch: 240/480, validation accuracy is 0.616\n",
      "-----\n",
      "Epoch: 10, batch: 480/480, training loss is 0.687\n",
      "Epoch: 10, batch: 480/480, avg validation loss is 0.653\n",
      "Epoch: 10, batch: 480/480, validation accuracy is 0.613\n",
      "-----\n",
      "Epoch: 11, batch: 240/480, training loss is 0.487\n",
      "Epoch: 11, batch: 240/480, avg validation loss is 0.662\n",
      "Epoch: 11, batch: 240/480, validation accuracy is 0.600\n",
      "-----\n",
      "Epoch: 11, batch: 480/480, training loss is 0.675\n",
      "Epoch: 11, batch: 480/480, avg validation loss is 0.653\n",
      "Epoch: 11, batch: 480/480, validation accuracy is 0.623\n",
      "-----\n",
      "Saving model -- Validation Loss decreased from 0.6496 to 0.6393\n",
      "Epoch: 12, batch: 240/480, training loss is 0.531\n",
      "Epoch: 12, batch: 240/480, avg validation loss is 0.639\n",
      "Epoch: 12, batch: 240/480, validation accuracy is 0.631\n",
      "-----\n",
      "Epoch: 12, batch: 480/480, training loss is 0.707\n",
      "Epoch: 12, batch: 480/480, avg validation loss is 0.647\n",
      "Epoch: 12, batch: 480/480, validation accuracy is 0.623\n",
      "-----\n"
     ]
    }
   ],
   "source": [
    "net_,val_losses,train_loss = train_nn(net,epochs,loss,optim,train_loader,val_loader,name_file)"
   ]
  },
  {
   "cell_type": "markdown",
   "id": "a3130e7a",
   "metadata": {},
   "source": [
    "#### Before starting this project I knew I would have faced serious troubles due to the sanity of the labels: unluckily a large percentage of input labeled as 0 were in reality 1 but still I needed to put into practice what I've learnt during my Deep Learning Nanodegree and therefore I decided to go on.\n",
    "#### The lessons I've learnt during this project are 1) Neural Network need a lot of data and might not be the best choice with small datasets 2) I experienced on my skin what GIGO truly is (due to labels) and undirecty I've noticed the limit of supervised-learning too: in fact in order to be useful it needs tons of correctly labeled data, a requirement that might be hard to get in real word. A possible solution in this kind of scenarios might be document-embedding and then clustering, but I give you effort to dive into that jungle."
   ]
  },
  {
   "cell_type": "code",
   "execution_count": 51,
   "id": "e7f322cd",
   "metadata": {
    "scrolled": true
   },
   "outputs": [
    {
     "name": "stdout",
     "output_type": "stream",
     "text": [
      "Embedding(102117, 300)\n",
      "              precision    recall  f1-score   support\n",
      "\n",
      "           0       0.54      0.69      0.61       427\n",
      "           1       0.68      0.53      0.60       533\n",
      "\n",
      "    accuracy                           0.60       960\n",
      "   macro avg       0.61      0.61      0.60       960\n",
      "weighted avg       0.62      0.60      0.60       960\n",
      "\n"
     ]
    },
    {
     "data": {
      "image/png": "[encoded data removed]",
      "text/plain": [
       "<Figure size 432x288 with 2 Axes>"
      ]
     },
     "metadata": {
      "needs_background": "light"
     },
     "output_type": "display_data"
    }
   ],
   "source": [
    "net_ = LSTM(vocab_size,output_size,embed_size,hidden_dim,n_layers,pretrained_embeddings,drop_prob=0.3)\n",
    "net_.cuda().load_state_dict(torch.load('NO_PUNCT/MODELS/pretrained.pt'))\n",
    "Confusion_Matrix(net,test_loader)"
   ]
  },
  {
   "cell_type": "code",
   "execution_count": null,
   "id": "b377f1e9",
   "metadata": {},
   "outputs": [],
   "source": []
  }
 ],
 "metadata": {
  "kernelspec": {
   "display_name": "Python 3 (ipykernel)",
   "language": "python",
   "name": "python3"
  },
  "language_info": {
   "codemirror_mode": {
    "name": "ipython",
    "version": 3
   },
   "file_extension": ".py",
   "mimetype": "text/x-python",
   "name": "python",
   "nbconvert_exporter": "python",
   "pygments_lexer": "ipython3",
   "version": "3.9.9"
  }
 },
 "nbformat": 4,
 "nbformat_minor": 5
}
